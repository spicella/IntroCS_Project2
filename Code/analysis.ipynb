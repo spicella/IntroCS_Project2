         # function that plots proba dist

def prbplt(x):

    s = x.sum(axis = 0, skipna = True)
    f = sorted(s.value_counts()/5242, reverse = True)


    #Plotting (log-log) graphs

    plt.figure(figsize=(20,10))
    plt.title("Probabablity of Authors having degree k",fontsize=20)
    plt.plot(f, linewidth = 1, marker = "o", markersize = 5,ls="-.")
    plt.xlabel("Log k", fontsize = 18)
    plt.ylabel("Log Probability", fontsize = 18)

    #Comment out the following 3 lines to obtain "non-log" graph, i.e. "Probability vs. k" graph
#     plt.semilogx()
#     plt.semilogy()
#     plt.grid()
    
    return plt.show()

#Function calculates: Average Local CC
#Input info: x = adj_a (original dataframe matrix)

def CC(x):
    
    adj_mat = np.asarray(x)     #converts dataframe matrix to numpy matrix array


    tot_cc = 0
    k=np.sum(adj_mat,axis=0)

    for i in range(0,len(adj_mat)):

        p = []
        for u in range(0,len(adj_mat)):
            if adj_mat[i,u] == 1:
                p.append(u)
            else:
                p = p            #p -> gives list of connected neighbours of a node

        L = 0
        for q in range (0, len(p)):
            for h in range (0,len(p)):
                if adj_mat[p[q], p[h]] == 1:
                    L = L + 1
                else:
                    L = L        #L -> gives 2x number of triangles connected to given node (double counting)
            
        if k[i]==1:
            cc=0
        else:
            cc = L/(k[i]*(k[i]-1))
        tot_cc = (tot_cc + cc)

    
    print("Average CC is: ", tot_cc/len(adj_mat))
